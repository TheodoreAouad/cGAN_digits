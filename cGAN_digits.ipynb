{
  "nbformat": 4,
  "nbformat_minor": 0,
  "metadata": {
    "colab": {
      "name": "cGAN_digits.ipynb",
      "version": "0.3.2",
      "provenance": [],
      "collapsed_sections": []
    },
    "kernelspec": {
      "display_name": "Python 2",
      "name": "python2"
    },
    "accelerator": "GPU"
  },
  "cells": [
    {
      "metadata": {
        "colab_type": "code",
        "id": "_vA8knol6rGi",
        "outputId": "adb0e344-a6da-4791-869d-dfef71f0028f",
        "colab": {
          "base_uri": "https://localhost:8080/",
          "height": 50
        }
      },
      "cell_type": "code",
      "source": [
        "from __future__ import print_function, division\n",
        "\n",
        "from keras.layers import Input, Dense, Flatten, Dropout, Reshape, Concatenate, UpSampling2D\n",
        "from keras.layers import BatchNormalization, Activation, Conv2D, Conv2DTranspose, Dropout\n",
        "from keras.layers.advanced_activations import LeakyReLU\n",
        "from keras.models import Model\n",
        "from keras.optimizers import Adam\n",
        "\n",
        "from keras.datasets import cifar10\n",
        "from tensorflow.examples.tutorials.mnist import input_data\n",
        "\n",
        "import keras.backend as K\n",
        "\n",
        "import matplotlib.pyplot as plt\n",
        "\n",
        "import sys\n",
        "import numpy as np\n",
        "import time\n",
        "from google.colab import files\n",
        "\n",
        "%pylab inline"
      ],
      "execution_count": 0,
      "outputs": [
        {
          "output_type": "stream",
          "text": [
            "Using TensorFlow backend.\n"
          ],
          "name": "stderr"
        },
        {
          "output_type": "stream",
          "text": [
            "Populating the interactive namespace from numpy and matplotlib\n"
          ],
          "name": "stdout"
        }
      ]
    },
    {
      "metadata": {
        "colab_type": "code",
        "id": "MZRiRjRj6xO4",
        "colab": {}
      },
      "cell_type": "code",
      "source": [
        "def get_generator(input_layer, condition_layer):\n",
        "\n",
        "  merged_input = Concatenate()([input_layer, condition_layer])\n",
        "  \n",
        "  dropout = 0.4\n",
        "  depth = 64+64+64+64\n",
        "  dim = 7\n",
        "  \n",
        "  hid = Dense(dim*dim*depth, input_dim=100)(merged_input)    \n",
        "  hid = BatchNormalization(momentum=0.9)(hid)\n",
        "  hid = Activation('relu')(hid)\n",
        "  hid = Reshape((dim, dim, depth))(hid)\n",
        "  hid = Dropout(dropout)(hid)\n",
        "\n",
        "  hid = UpSampling2D()(hid)\n",
        "  hid = Conv2DTranspose(int(depth/2),5,padding = \"same\")(hid)\n",
        "  hid = BatchNormalization(momentum=0.9)(hid)\n",
        "  hid = Activation(\"relu\")(hid)\n",
        "  \n",
        "  hid = UpSampling2D()(hid)\n",
        "  hid = Conv2DTranspose(int(depth/4), 5, padding='same')(hid)\n",
        "  hid = BatchNormalization(momentum=0.9)(hid)\n",
        "  hid = Activation('relu')(hid)\n",
        "  \n",
        "  hid = Conv2DTranspose(int(depth/8), 5, padding='same')(hid)\n",
        "  hid = BatchNormalization(momentum=0.9)(hid)\n",
        "  hid = Activation('relu')(hid)\n",
        "  \n",
        "  hid = Conv2DTranspose(1, 5, padding='same')(hid)\n",
        "  out = Activation('sigmoid')(hid)\n",
        "\n",
        "  model = Model(inputs=[input_layer, condition_layer], outputs=out)\n",
        "  model.summary()\n",
        "  \n",
        "  return model, out\n"
      ],
      "execution_count": 0,
      "outputs": []
    },
    {
      "metadata": {
        "colab_type": "code",
        "id": "4yFseSJQ62d2",
        "colab": {}
      },
      "cell_type": "code",
      "source": [
        "def get_discriminator(input_layer, condition_layer):\n",
        "  \n",
        "  depth = 64\n",
        "  dropout = 0.4\n",
        "  # In: 28 x 28 x 1, depth = 1\n",
        "  # Out: 14 x 14 x 1, depth=64\n",
        "  input_shape = (28, 28, 1)\n",
        "  hid = Conv2D(depth*1, 5, strides=2, input_shape=input_shape,\\\n",
        "      padding='same')(input_layer)\n",
        "  hid = LeakyReLU(alpha=0.2)(hid)\n",
        "  hid = Dropout(dropout)(hid)\n",
        "\n",
        "  hid = Conv2D(depth*2, 5, strides=2, padding='same')(hid)\n",
        "  hid = LeakyReLU(alpha=0.2)(hid)\n",
        "  hid = Dropout(dropout)(hid)\n",
        "\n",
        "  hid = Conv2D(depth*4, 5, strides=2, padding='same')(hid)\n",
        "  hid = LeakyReLU(alpha=0.2)(hid)\n",
        "  hid = Dropout(dropout)(hid)\n",
        "\n",
        "  hid = Conv2D(depth*8, 5, strides=1, padding='same')(hid)\n",
        "  hid = LeakyReLU(alpha=0.2)(hid)\n",
        "  hid = Dropout(dropout)(hid)\n",
        "\n",
        "  # Out: 1-dim probability\n",
        "  hid = Flatten()(hid)\n",
        "  hid = Dense(1)(hid)\n",
        "  out = Activation('sigmoid')(hid)\n",
        "  \n",
        "  model = Model(inputs=[input_layer, condition_layer], outputs=out)\n",
        "\n",
        "  model.summary()\n",
        "\n",
        "  return model, out"
      ],
      "execution_count": 0,
      "outputs": []
    },
    {
      "metadata": {
        "colab_type": "code",
        "id": "uFSdLdMv67Oq",
        "colab": {}
      },
      "cell_type": "code",
      "source": [
        "from keras.preprocessing import image\n",
        "\n",
        "def one_hot_encode(y):\n",
        "  z = np.zeros((len(y), 10))\n",
        "  idx = np.arange(len(y))\n",
        "  z[idx, y] = 1\n",
        "  return z\n",
        "\n",
        "def generate_noise(n_samples, noise_dim):\n",
        "  X = np.random.normal(0, 1, size=(n_samples, noise_dim))\n",
        "  return X\n",
        "\n",
        "def generate_random_labels(n):\n",
        "  y = np.random.choice(10, n)\n",
        "  y = one_hot_encode(y)\n",
        "  return y\n",
        "\n",
        "tags = ['0', '1', '2', '3', '4', '5', '6', '7', '8', '9']\n",
        "  \n",
        "def show_samples(batchidx):\n",
        "  fig, axs = plt.subplots(5, 6, figsize=(10,6))\n",
        "  plt.subplots_adjust(hspace=0.3, wspace=0.1)\n",
        "  #fig, axs = plt.subplots(5, 6)\n",
        "  #fig.tight_layout()\n",
        "  for classlabel in range(10):\n",
        "    row = int(classlabel / 2)\n",
        "    coloffset = (classlabel % 2) * 3\n",
        "    lbls = one_hot_encode([classlabel] * 3)\n",
        "    noise = generate_noise(3, 100)\n",
        "    gen_imgs = generator.predict([noise, lbls])\n",
        "\n",
        "    for i in range(3):\n",
        "        # Dont scale the images back, let keras handle it\n",
        "        img = image.array_to_img(gen_imgs[i], scale=True)\n",
        "        axs[row,i+coloffset].imshow(img)\n",
        "        axs[row,i+coloffset].axis('off')\n",
        "        if i ==1:\n",
        "          axs[row,i+coloffset].set_title(tags[classlabel])\n",
        "  plt.show()\n",
        "  plt.close()  "
      ],
      "execution_count": 0,
      "outputs": []
    },
    {
      "metadata": {
        "colab_type": "code",
        "id": "Iha5HiXj7FRg",
        "outputId": "e1ea40ac-49bf-4870-b899-0c2ba9cd4226",
        "colab": {
          "base_uri": "https://localhost:8080/",
          "height": 1986
        }
      },
      "cell_type": "code",
      "source": [
        "# GAN creation\n",
        "img_input = Input(shape=(28,28,1))\n",
        "disc_condition_input = Input(shape=(10,))\n",
        "\n",
        "discriminator, disc_out = get_discriminator(img_input, disc_condition_input)\n",
        "discriminator.compile(optimizer=Adam(0.0002, 0.5), loss='binary_crossentropy', metrics=['accuracy'])\n",
        "\n",
        "discriminator.trainable = False\n",
        "\n",
        "noise_input = Input(shape=(100,))\n",
        "gen_condition_input = Input(shape=(10,))\n",
        "generator, gen_out = get_generator(noise_input, gen_condition_input)\n",
        "\n",
        "gan_input = Input(shape=(100,))\n",
        "x = generator([gan_input, gen_condition_input])\n",
        "gan_out = discriminator([x, disc_condition_input])\n",
        "gan = Model(inputs=[gan_input, gen_condition_input, disc_condition_input], output=gan_out)\n",
        "gan.summary()\n",
        "\n",
        "gan.compile(optimizer=Adam(0.0002, 0.5), loss='binary_crossentropy')"
      ],
      "execution_count": 0,
      "outputs": [
        {
          "output_type": "stream",
          "text": [
            "WARNING:tensorflow:From /usr/local/lib/python2.7/dist-packages/tensorflow/python/framework/op_def_library.py:263: colocate_with (from tensorflow.python.framework.ops) is deprecated and will be removed in a future version.\n",
            "Instructions for updating:\n",
            "Colocations handled automatically by placer.\n",
            "WARNING:tensorflow:From /usr/local/lib/python2.7/dist-packages/keras/backend/tensorflow_backend.py:3445: calling dropout (from tensorflow.python.ops.nn_ops) with keep_prob is deprecated and will be removed in a future version.\n",
            "Instructions for updating:\n",
            "Please use `rate` instead of `keep_prob`. Rate should be set to `rate = 1 - keep_prob`.\n",
            "_________________________________________________________________\n",
            "Layer (type)                 Output Shape              Param #   \n",
            "=================================================================\n",
            "input_1 (InputLayer)         (None, 28, 28, 1)         0         \n",
            "_________________________________________________________________\n",
            "conv2d_1 (Conv2D)            (None, 14, 14, 64)        1664      \n",
            "_________________________________________________________________\n",
            "leaky_re_lu_1 (LeakyReLU)    (None, 14, 14, 64)        0         \n",
            "_________________________________________________________________\n",
            "dropout_1 (Dropout)          (None, 14, 14, 64)        0         \n",
            "_________________________________________________________________\n",
            "conv2d_2 (Conv2D)            (None, 7, 7, 128)         204928    \n",
            "_________________________________________________________________\n",
            "leaky_re_lu_2 (LeakyReLU)    (None, 7, 7, 128)         0         \n",
            "_________________________________________________________________\n",
            "dropout_2 (Dropout)          (None, 7, 7, 128)         0         \n",
            "_________________________________________________________________\n",
            "conv2d_3 (Conv2D)            (None, 4, 4, 256)         819456    \n",
            "_________________________________________________________________\n",
            "leaky_re_lu_3 (LeakyReLU)    (None, 4, 4, 256)         0         \n",
            "_________________________________________________________________\n",
            "dropout_3 (Dropout)          (None, 4, 4, 256)         0         \n",
            "_________________________________________________________________\n",
            "conv2d_4 (Conv2D)            (None, 4, 4, 512)         3277312   \n",
            "_________________________________________________________________\n",
            "leaky_re_lu_4 (LeakyReLU)    (None, 4, 4, 512)         0         \n",
            "_________________________________________________________________\n",
            "dropout_4 (Dropout)          (None, 4, 4, 512)         0         \n",
            "_________________________________________________________________\n",
            "flatten_1 (Flatten)          (None, 8192)              0         \n",
            "_________________________________________________________________\n",
            "dense_1 (Dense)              (None, 1)                 8193      \n",
            "_________________________________________________________________\n",
            "activation_1 (Activation)    (None, 1)                 0         \n",
            "=================================================================\n",
            "Total params: 4,311,553\n",
            "Trainable params: 4,311,553\n",
            "Non-trainable params: 0\n",
            "_________________________________________________________________\n",
            "__________________________________________________________________________________________________\n",
            "Layer (type)                    Output Shape         Param #     Connected to                     \n",
            "==================================================================================================\n",
            "input_3 (InputLayer)            (None, 100)          0                                            \n",
            "__________________________________________________________________________________________________\n",
            "input_4 (InputLayer)            (None, 10)           0                                            \n",
            "__________________________________________________________________________________________________\n",
            "concatenate_1 (Concatenate)     (None, 110)          0           input_3[0][0]                    \n",
            "                                                                 input_4[0][0]                    \n",
            "__________________________________________________________________________________________________\n",
            "dense_2 (Dense)                 (None, 12544)        1392384     concatenate_1[0][0]              \n",
            "__________________________________________________________________________________________________\n",
            "batch_normalization_1 (BatchNor (None, 12544)        50176       dense_2[0][0]                    \n",
            "__________________________________________________________________________________________________\n",
            "activation_2 (Activation)       (None, 12544)        0           batch_normalization_1[0][0]      \n",
            "__________________________________________________________________________________________________\n",
            "reshape_1 (Reshape)             (None, 7, 7, 256)    0           activation_2[0][0]               \n",
            "__________________________________________________________________________________________________\n",
            "dropout_5 (Dropout)             (None, 7, 7, 256)    0           reshape_1[0][0]                  \n",
            "__________________________________________________________________________________________________\n",
            "up_sampling2d_1 (UpSampling2D)  (None, 14, 14, 256)  0           dropout_5[0][0]                  \n",
            "__________________________________________________________________________________________________\n",
            "conv2d_transpose_1 (Conv2DTrans (None, 14, 14, 128)  819328      up_sampling2d_1[0][0]            \n",
            "__________________________________________________________________________________________________\n",
            "batch_normalization_2 (BatchNor (None, 14, 14, 128)  512         conv2d_transpose_1[0][0]         \n",
            "__________________________________________________________________________________________________\n",
            "activation_3 (Activation)       (None, 14, 14, 128)  0           batch_normalization_2[0][0]      \n",
            "__________________________________________________________________________________________________\n",
            "up_sampling2d_2 (UpSampling2D)  (None, 28, 28, 128)  0           activation_3[0][0]               \n",
            "__________________________________________________________________________________________________\n",
            "conv2d_transpose_2 (Conv2DTrans (None, 28, 28, 64)   204864      up_sampling2d_2[0][0]            \n",
            "__________________________________________________________________________________________________\n",
            "batch_normalization_3 (BatchNor (None, 28, 28, 64)   256         conv2d_transpose_2[0][0]         \n",
            "__________________________________________________________________________________________________\n",
            "activation_4 (Activation)       (None, 28, 28, 64)   0           batch_normalization_3[0][0]      \n",
            "__________________________________________________________________________________________________\n",
            "conv2d_transpose_3 (Conv2DTrans (None, 28, 28, 32)   51232       activation_4[0][0]               \n",
            "__________________________________________________________________________________________________\n",
            "batch_normalization_4 (BatchNor (None, 28, 28, 32)   128         conv2d_transpose_3[0][0]         \n",
            "__________________________________________________________________________________________________\n",
            "activation_5 (Activation)       (None, 28, 28, 32)   0           batch_normalization_4[0][0]      \n",
            "__________________________________________________________________________________________________\n",
            "conv2d_transpose_4 (Conv2DTrans (None, 28, 28, 1)    801         activation_5[0][0]               \n",
            "__________________________________________________________________________________________________\n",
            "activation_6 (Activation)       (None, 28, 28, 1)    0           conv2d_transpose_4[0][0]         \n",
            "==================================================================================================\n",
            "Total params: 2,519,681\n",
            "Trainable params: 2,494,145\n",
            "Non-trainable params: 25,536\n",
            "__________________________________________________________________________________________________\n",
            "__________________________________________________________________________________________________\n",
            "Layer (type)                    Output Shape         Param #     Connected to                     \n",
            "==================================================================================================\n",
            "input_5 (InputLayer)            (None, 100)          0                                            \n",
            "__________________________________________________________________________________________________\n",
            "input_4 (InputLayer)            (None, 10)           0                                            \n",
            "__________________________________________________________________________________________________\n",
            "model_2 (Model)                 (None, 28, 28, 1)    2519681     input_5[0][0]                    \n",
            "                                                                 input_4[0][0]                    \n",
            "__________________________________________________________________________________________________\n",
            "input_2 (InputLayer)            (None, 10)           0                                            \n",
            "__________________________________________________________________________________________________\n",
            "model_1 (Model)                 (None, 1)            4311553     model_2[1][0]                    \n",
            "                                                                 input_2[0][0]                    \n",
            "==================================================================================================\n",
            "Total params: 6,831,234\n",
            "Trainable params: 2,494,145\n",
            "Non-trainable params: 4,337,089\n",
            "__________________________________________________________________________________________________\n"
          ],
          "name": "stdout"
        },
        {
          "output_type": "stream",
          "text": [
            "/usr/local/lib/python2.7/dist-packages/ipykernel_launcher.py:16: UserWarning: Update your `Model` call to the Keras 2 API: `Model(outputs=Tensor(\"mo..., inputs=[<tf.Tenso...)`\n",
            "  app.launch_new_instance()\n"
          ],
          "name": "stderr"
        }
      ]
    },
    {
      "metadata": {
        "colab_type": "code",
        "id": "x_C473Ji7OtQ",
        "outputId": "91d3fc0a-0b7d-4358-e939-02b30acc9ec9",
        "colab": {
          "base_uri": "https://localhost:8080/",
          "height": 490
        }
      },
      "cell_type": "code",
      "source": [
        "BATCH_SIZE = 16\n",
        "\n",
        "# # Get training images\n",
        "X_train = input_data.read_data_sets(\"mnist\", one_hot=True).train.images\n",
        "y_train = input_data.read_data_sets(\"mnist\", one_hot=True).train.labels\n",
        "\n",
        "# Normalize data\n",
        "#X_train = (X_train - 127.5) / 127.5\n",
        "X_train = X_train.reshape(-1,28,28,1)\n",
        "\n",
        "# 1hot encode labels\n",
        "#y_train = one_hot_encode(y_train[:,0])\n",
        "\n",
        "print (\"Training shape: {}\".format(X_train.shape))\n",
        " \n",
        "num_batches = int(X_train.shape[0]/BATCH_SIZE)"
      ],
      "execution_count": 0,
      "outputs": [
        {
          "output_type": "stream",
          "text": [
            "WARNING:tensorflow:From <ipython-input-7-d36d91c11082>:4: read_data_sets (from tensorflow.contrib.learn.python.learn.datasets.mnist) is deprecated and will be removed in a future version.\n",
            "Instructions for updating:\n",
            "Please use alternatives such as official/mnist/dataset.py from tensorflow/models.\n",
            "WARNING:tensorflow:From /usr/local/lib/python2.7/dist-packages/tensorflow/contrib/learn/python/learn/datasets/mnist.py:260: maybe_download (from tensorflow.contrib.learn.python.learn.datasets.base) is deprecated and will be removed in a future version.\n",
            "Instructions for updating:\n",
            "Please write your own downloading logic.\n",
            "WARNING:tensorflow:From /usr/local/lib/python2.7/dist-packages/tensorflow/contrib/learn/python/learn/datasets/mnist.py:262: extract_images (from tensorflow.contrib.learn.python.learn.datasets.mnist) is deprecated and will be removed in a future version.\n",
            "Instructions for updating:\n",
            "Please use tf.data to implement this functionality.\n",
            "Extracting mnist/train-images-idx3-ubyte.gz\n",
            "WARNING:tensorflow:From /usr/local/lib/python2.7/dist-packages/tensorflow/contrib/learn/python/learn/datasets/mnist.py:267: extract_labels (from tensorflow.contrib.learn.python.learn.datasets.mnist) is deprecated and will be removed in a future version.\n",
            "Instructions for updating:\n",
            "Please use tf.data to implement this functionality.\n",
            "Extracting mnist/train-labels-idx1-ubyte.gz\n",
            "WARNING:tensorflow:From /usr/local/lib/python2.7/dist-packages/tensorflow/contrib/learn/python/learn/datasets/mnist.py:110: dense_to_one_hot (from tensorflow.contrib.learn.python.learn.datasets.mnist) is deprecated and will be removed in a future version.\n",
            "Instructions for updating:\n",
            "Please use tf.one_hot on tensors.\n",
            "Extracting mnist/t10k-images-idx3-ubyte.gz\n",
            "Extracting mnist/t10k-labels-idx1-ubyte.gz\n",
            "WARNING:tensorflow:From /usr/local/lib/python2.7/dist-packages/tensorflow/contrib/learn/python/learn/datasets/mnist.py:290: __init__ (from tensorflow.contrib.learn.python.learn.datasets.mnist) is deprecated and will be removed in a future version.\n",
            "Instructions for updating:\n",
            "Please use alternatives such as official/mnist/dataset.py from tensorflow/models.\n",
            "Extracting mnist/train-images-idx3-ubyte.gz\n",
            "Extracting mnist/train-labels-idx1-ubyte.gz\n",
            "Extracting mnist/t10k-images-idx3-ubyte.gz\n",
            "Extracting mnist/t10k-labels-idx1-ubyte.gz\n",
            "Training shape: (55000, 28, 28, 1)\n"
          ],
          "name": "stdout"
        }
      ]
    },
    {
      "metadata": {
        "colab_type": "code",
        "id": "sXcwIL9MH7so",
        "colab": {}
      },
      "cell_type": "code",
      "source": [
        "# Array to store samples for experience replay\n",
        "exp_replay = []"
      ],
      "execution_count": 0,
      "outputs": []
    },
    {
      "metadata": {
        "id": "6b0wUV4bKHnv",
        "colab_type": "code",
        "colab": {}
      },
      "cell_type": "code",
      "source": [
        "discriminator.load_weights(\"drive/My Drive/Projet OMA/discriminator_digits.h5\")\n",
        "generator.load_weights(\"drive/My Drive/Projet OMA/generator_digits.h5\")"
      ],
      "execution_count": 0,
      "outputs": []
    },
    {
      "metadata": {
        "colab_type": "code",
        "id": "jUgkE7bW7ZNK",
        "colab": {}
      },
      "cell_type": "code",
      "source": [
        "N_EPOCHS = 1000\n",
        "start = time.time()\n",
        "save_files = True\n",
        "save_interval = 580\n",
        "for epoch in range(N_EPOCHS):\n",
        "\n",
        "  cum_d_loss = 0.\n",
        "  cum_g_loss = 0.\n",
        "  \n",
        "  for batch_idx in range(num_batches):\n",
        "    # Get the next set of real images to be used in this iteration\n",
        "    images = X_train[batch_idx*BATCH_SIZE : (batch_idx+1)*BATCH_SIZE]\n",
        "    labels = y_train[batch_idx*BATCH_SIZE : (batch_idx+1)*BATCH_SIZE]\n",
        "\n",
        "    noise_data = generate_noise(BATCH_SIZE, 100)\n",
        "    random_labels = generate_random_labels(BATCH_SIZE)\n",
        "    # We use same labels for generated images as in the real training batch\n",
        "    generated_images = generator.predict([noise_data, labels])\n",
        "\n",
        "    # Train on soft targets (add noise to targets as well)\n",
        "    noise_prop = 0.05 # Randomly flip 5% of targets\n",
        "    \n",
        "    # Prepare labels for real data\n",
        "    true_labels = np.zeros((BATCH_SIZE, 1)) + np.random.uniform(low=0.0, high=0.1, size=(BATCH_SIZE, 1))\n",
        "    flipped_idx = np.random.choice(np.arange(len(true_labels)), size=int(noise_prop*len(true_labels)))\n",
        "    true_labels[flipped_idx] = 1 - true_labels[flipped_idx]\n",
        "    \n",
        "    # Train discriminator on real data\n",
        "    d_loss_true = discriminator.train_on_batch([images, labels], true_labels)\n",
        "\n",
        "    # Prepare labels for generated data\n",
        "    gene_labels = np.ones((BATCH_SIZE, 1)) - np.random.uniform(low=0.0, high=0.1, size=(BATCH_SIZE, 1))\n",
        "    flipped_idx = np.random.choice(np.arange(len(gene_labels)), size=int(noise_prop*len(gene_labels)))\n",
        "    gene_labels[flipped_idx] = 1 - gene_labels[flipped_idx]\n",
        "    \n",
        "    # Train discriminator on generated data\n",
        "    d_loss_gene = discriminator.train_on_batch([generated_images, labels], gene_labels)\n",
        "    \n",
        "    # Store a random point for experience replay\n",
        "    r_idx = np.random.randint(BATCH_SIZE)\n",
        "    exp_replay.append([generated_images[r_idx], labels[r_idx], gene_labels[r_idx]])\n",
        "    \n",
        "    #If we have enough points, do experience replay\n",
        "    if len(exp_replay) == BATCH_SIZE:\n",
        "      generated_images = np.array([p[0] for p in exp_replay])\n",
        "      labels = np.array([p[1] for p in exp_replay])\n",
        "      gene_labels = np.array([p[2] for p in exp_replay])\n",
        "      expprep_loss_gene = discriminator.train_on_batch([generated_images, labels], gene_labels)\n",
        "      exp_replay = []\n",
        "      break\n",
        "    \n",
        "    d_loss = 0.5 * np.add(d_loss_true, d_loss_gene)\n",
        "    cum_d_loss += d_loss\n",
        "\n",
        "    # Train generator\n",
        "    noise_data = generate_noise(BATCH_SIZE, 100)\n",
        "    random_labels = generate_random_labels(BATCH_SIZE)\n",
        "    g_loss = gan.train_on_batch([noise_data, random_labels, random_labels], np.zeros((BATCH_SIZE, 1)))\n",
        "    cum_g_loss += g_loss\n",
        "\n",
        "  print('\\tEpoch: {}, Generator Loss: {}, Discriminator Loss: {}, Time: {}'.format(epoch+1, cum_g_loss/num_batches, cum_d_loss/num_batches, time.time()-start))\n",
        "  show_samples(\"epoch\" + str(epoch))\n",
        "  \n",
        "  if save_files and (epoch+1)%save_interval == 0:\n",
        "    generator.save(\"drive/My Drive/Projet OMA/generator_digits.h5\")\n",
        "    discriminator.save(\"drive/My Drive/Projet OMA/discriminator_digits.h5\")\n",
        "    print(\"Models saved\")\n"
      ],
      "execution_count": 0,
      "outputs": []
    },
    {
      "metadata": {
        "colab_type": "code",
        "id": "uK19Aj0bir2R",
        "outputId": "994e2450-575c-48b0-a682-aef5860cb125",
        "colab": {
          "base_uri": "https://localhost:8080/",
          "height": 2785
        }
      },
      "cell_type": "code",
      "source": [
        "for classlabel in range(10):\n",
        "  lbls = one_hot_encode([classlabel] * 9)\n",
        "  noise = generate_noise(9, 100)\n",
        "  gen_imgs = generator.predict([noise, lbls])\n",
        "\n",
        "  fig, axs = plt.subplots(3, 3)\n",
        "  plt.subplots_adjust(hspace=0.05, wspace=0.05)\n",
        "  count = 0\n",
        "  for i in range(3):\n",
        "    for j in range(3):\n",
        "      # Dont scale the images back, let keras handle it\n",
        "      img = image.array_to_img(gen_imgs[count], scale=True)\n",
        "      axs[i,j].imshow(img)\n",
        "      axs[i,j].axis('off')\n",
        "      plt.suptitle('Label: ' + str(classlabel))\n",
        "      count += 1\n",
        "  plt.show()\n",
        "  plt.close()  "
      ],
      "execution_count": 0,
      "outputs": [
        {
          "output_type": "display_data",
          "data": {
            "image/png": "[encoded data removed]",
            "text/plain": [
              "<Figure size 432x288 with 9 Axes>"
            ]
          },
          "metadata": {
            "tags": []
          }
        },
        {
          "output_type": "display_data",
          "data": {
            "image/png": "[encoded data removed]",
            "text/plain": [
              "<Figure size 432x288 with 9 Axes>"
            ]
          },
          "metadata": {
            "tags": []
          }
        },
        {
          "output_type": "display_data",
          "data": {
            "image/png": "[encoded data removed]",
            "text/plain": [
              "<Figure size 432x288 with 9 Axes>"
            ]
          },
          "metadata": {
            "tags": []
          }
        },
        {
          "output_type": "display_data",
          "data": {
            "image/png": "[encoded data removed]",
            "text/plain": [
              "<Figure size 432x288 with 9 Axes>"
            ]
          },
          "metadata": {
            "tags": []
          }
        },
        {
          "output_type": "display_data",
          "data": {
            "image/png": "[encoded data removed]",
            "text/plain": [
              "<Figure size 432x288 with 9 Axes>"
            ]
          },
          "metadata": {
            "tags": []
          }
        },
        {
          "output_type": "display_data",
          "data": {
            "image/png": "[encoded data removed]",
            "text/plain": [
              "<Figure size 432x288 with 9 Axes>"
            ]
          },
          "metadata": {
            "tags": []
          }
        },
        {
          "output_type": "display_data",
          "data": {
            "image/png": "[encoded data removed]",
            "text/plain": [
              "<Figure size 432x288 with 9 Axes>"
            ]
          },
          "metadata": {
            "tags": []
          }
        },
        {
          "output_type": "display_data",
          "data": {
            "image/png": "[encoded data removed]",
            "text/plain": [
              "<Figure size 432x288 with 9 Axes>"
            ]
          },
          "metadata": {
            "tags": []
          }
        },
        {
          "output_type": "display_data",
          "data": {
            "image/png": "[encoded data removed]",
            "text/plain": [
              "<Figure size 432x288 with 9 Axes>"
            ]
          },
          "metadata": {
            "tags": []
          }
        },
        {
          "output_type": "display_data",
          "data": {
            "image/png": "[encoded data removed]",
            "text/plain": [
              "<Figure size 432x288 with 9 Axes>"
            ]
          },
          "metadata": {
            "tags": []
          }
        }
      ]
    },
    {
      "metadata": {
        "colab_type": "code",
        "id": "lRc54gwzcawK",
        "colab": {}
      },
      "cell_type": "code",
      "source": [
        "generator.save(\"drive/My Drive/Projet OMA/generator_digits.h5\")\n",
        "discriminator.save(\"drive/My Drive/Projet OMA/discriminator_digits.h5\")"
      ],
      "execution_count": 0,
      "outputs": []
    },
    {
      "metadata": {
        "id": "VQkmpVTRUmSp",
        "colab_type": "code",
        "colab": {}
      },
      "cell_type": "code",
      "source": [
        "from google.colab import files\n",
        "\n"
      ],
      "execution_count": 0,
      "outputs": []
    },
    {
      "metadata": {
        "id": "LlriT7Zcxymx",
        "colab_type": "code",
        "outputId": "a7527561-8354-42e7-c45e-ad295e8f00f1",
        "colab": {
          "base_uri": "https://localhost:8080/",
          "height": 50
        }
      },
      "cell_type": "code",
      "source": [
        "start = time.time()\n",
        "files.download(\"discriminator.h5\")\n",
        "print(time.time()-start)\n",
        "files.download(\"generator.h5\")\n",
        "print(time.time()-start)"
      ],
      "execution_count": 0,
      "outputs": [
        {
          "output_type": "stream",
          "text": [
            "72.2260348797\n",
            "146.233091831\n"
          ],
          "name": "stdout"
        }
      ]
    },
    {
      "metadata": {
        "id": "lQTozcxtyAP-",
        "colab_type": "code",
        "outputId": "ef0a60b7-eec4-4551-8e40-78f90fe14011",
        "colab": {
          "base_uri": "https://localhost:8080/",
          "height": 121
        }
      },
      "cell_type": "code",
      "source": [
        "from google.colab import drive\n",
        "drive.mount('/content/drive')"
      ],
      "execution_count": 0,
      "outputs": [
        {
          "output_type": "stream",
          "text": [
            "Go to this URL in a browser: https://accounts.google.com/o/oauth2/auth?client_id=947318989803-6bn6qk8qdgf4n4g3pfee6491hc0brc4i.apps.googleusercontent.com&redirect_uri=urn%3Aietf%3Awg%3Aoauth%3A2.0%3Aoob&scope=email%20https%3A%2F%2Fwww.googleapis.com%2Fauth%2Fdocs.test%20https%3A%2F%2Fwww.googleapis.com%2Fauth%2Fdrive%20https%3A%2F%2Fwww.googleapis.com%2Fauth%2Fdrive.photos.readonly%20https%3A%2F%2Fwww.googleapis.com%2Fauth%2Fpeopleapi.readonly&response_type=code\n",
            "\n",
            "Enter your authorization code:\n",
            "··········\n",
            "Mounted at /content/drive\n"
          ],
          "name": "stdout"
        }
      ]
    },
    {
      "metadata": {
        "id": "uraZT8dms_JN",
        "colab_type": "code",
        "colab": {}
      },
      "cell_type": "code",
      "source": [
        ""
      ],
      "execution_count": 0,
      "outputs": []
    }
  ]
}